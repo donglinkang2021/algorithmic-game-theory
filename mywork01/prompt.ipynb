{
 "cells": [
  {
   "cell_type": "code",
   "execution_count": 1,
   "metadata": {},
   "outputs": [],
   "source": [
    "prompt = \"\"\"\n",
    "\n",
    "```tex\n",
    "{problem}\n",
    "```\n",
    "\n",
    "please solve the problem above in latex:\n",
    "\n",
    "```tex\n",
    "<answer>\n",
    "```\n",
    "\n",
    "\"\"\""
   ]
  },
  {
   "cell_type": "code",
   "execution_count": 2,
   "metadata": {},
   "outputs": [],
   "source": [
    "problem1_tex = r\"\"\"\n",
    "\\paragraph{Problem 1:} \n",
    "Show that PPAD \\(\\subseteq\\) PPP. In other words, given the circuits P and N for an instance of the PPAD problem, construct a new circuit C, such that:\n",
    "\n",
    "\\begin{enumerate}[a.]\n",
    "    \\item If \\(\\exists \\)x with C(x) = \\(0^n\\), then \\(0^n\\) was not unbalanced in the original PPAD instance.\n",
    "    \\item Given \\(x \\neq y\\), with C(x) = C(y), we can find in polynomial time a \\(z \\neq 0^n\\) (hint: possibly equal to x or y) that is unbalanced in the original PPAD instance.\n",
    "\\end{enumerate}\n",
    "\"\"\""
   ]
  },
  {
   "cell_type": "code",
   "execution_count": 3,
   "metadata": {},
   "outputs": [],
   "source": [
    "# 将prompt的内容写入文件\n",
    "with open(\"prompt1.txt\", \"w\") as f:\n",
    "    f.write(prompt.format(problem=problem1_tex))"
   ]
  },
  {
   "cell_type": "code",
   "execution_count": 4,
   "metadata": {},
   "outputs": [],
   "source": [
    "problem2_tex = r\"\"\"\n",
    "In lecture, we saw how to construct a brittle comparison gadget. If the inequality was strict, the comparator was correct, but had undefined behavior when the two values were equal. Show that there does not exist a comparison gadget that is not brittle. In other words, there is no game such that:\n",
    "\n",
    "\\begin{enumerate}[(a)]\n",
    "    \\item There are three players, a, b, c each with two strategies, 0 and 1.\n",
    "    \\item  In any Nash Equilibrium, if \\(Pr[a~plays~1] \\ge Pr[b~plays~1]\\), then \\(Pr[c~plays~1] = 1\\).\n",
    "    \\item In any Nash Equilibrium, if \\(Pr[a~plays~1] < Pr[b~plays~1]\\), then \\(Pr[c~plays~1] = 0\\).\n",
    "\\end{enumerate}\n",
    "\n",
    "\\textit{Hint: Assume that such a game exists. Use this comparator as a gadget to construct a game with no Nash equilbrium, yielding a contradiction}\n",
    "\"\"\""
   ]
  },
  {
   "cell_type": "code",
   "execution_count": 5,
   "metadata": {},
   "outputs": [],
   "source": [
    "# 将prompt的内容写入文件\n",
    "with open(\"prompt2.txt\", \"w\") as f:\n",
    "    f.write(prompt.format(problem=problem2_tex))"
   ]
  },
  {
   "cell_type": "code",
   "execution_count": null,
   "metadata": {},
   "outputs": [],
   "source": [
    "problem3_tex = r\"\"\"\n",
    "Show that there exists a polynomial q, such that for any polymatrix game \\(\\mathcal{GG}\\) with payoffs that can be represented exactly using c bits, we can turn a \\(2^{-q(|\\mathcal{GG}|c)}\\)\n",
    "-approximate Nash equilibrium into an exact Nash equilibrium. We'll break down the proof into a few steps.\n",
    "\n",
    "\\begin{enumerate}[(a)]\n",
    "    \\item Consider only a two player game between A and B. If an oracle gave you two subsets of strategies, $S_A$ and $S_B$, and promised you that there was an exact Nash equilibrium where every strategy in $S_A$ was a best response for A, every strategy in $S_B$ was a best response for B, and neither player played any strategy outside of $S_A$ or $S_B$, could you find it? hint: \\textit{Write a linear program}\n",
    "    \\item Extend this result to polymatrix games. IE: If an oracle gave you a subset of strategies for every player, $S_p$, and promised you that there was an exact Nash where every strategy in $S_p$ was a best response for player p, and no player played any strategy outside of $S_p$, could you find it?\n",
    "    \\item Modify your result to solve the following problem instead: Given a subset of strategies, $S_p$, for every player in $\\mathcal{GG}$, find the smallest $\\epsilon$ such that there exists an $\\epsilon$-approximate Nash where every strategy in $S_p$ is a best response for player p, and no player uses any strategy outside $S_p$.\n",
    "    \\item The bit complexity of a LP is the largest number of bits needed for computation to find the minimizing feasible point (the bit complexity of a LP is polynomial in the number of constraints and number of bits per constant in the LP). Observe that the bit complexity of the LP you wrote is polynomial in |$\\mathcal{GG}$| and c, \\textbf{regardless of the subsets $S_p$ given as input}.\n",
    "    \\item  Denote by x an upper bound on the bit complexity of the LP you wrote, for any subsets $S_p$. Say that you have a $2^{-y}$-approximate Nash equilibrium, with y > x. What is an obvious choice of $S_p$ that would give your LP a value of at most $2^{-y}$? Observe that this same LP must in fact have value 0, and therefore solving it will yield an exact Nash equilibrium.\n",
    "    \n",
    "    \n",
    "\\end{enumerate}\n",
    "\"\"\"\n",
    "\n",
    "# 将prompt的内容写入文件\n",
    "with open(\"prompt3.txt\", \"w\") as f:\n",
    "    f.write(prompt.format(problem=problem3_tex))"
   ]
  }
 ],
 "metadata": {
  "kernelspec": {
   "display_name": "base",
   "language": "python",
   "name": "python3"
  },
  "language_info": {
   "codemirror_mode": {
    "name": "ipython",
    "version": 3
   },
   "file_extension": ".py",
   "mimetype": "text/x-python",
   "name": "python",
   "nbconvert_exporter": "python",
   "pygments_lexer": "ipython3",
   "version": "3.9.7"
  },
  "orig_nbformat": 4
 },
 "nbformat": 4,
 "nbformat_minor": 2
}
