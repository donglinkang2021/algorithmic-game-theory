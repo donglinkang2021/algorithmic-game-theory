{
 "cells": [
  {
   "cell_type": "markdown",
   "metadata": {},
   "source": [
    "# PPAD 和 PPP\n",
    "\n",
    "当涉及算法博弈论中的PPAD和PPP时，我们需要了解这两个类的定义。PPAD代表“Polynomial Parity Argument, Directed”，而PPP代表“Polynomial Parity Argument, Polynomial”.\n",
    "\n",
    "PPAD是包含于PPP的，即PPAD ⊆ PPP，这意味着在PPAD类中的问题在PPP类中也存在。简单来说，PPAD问题可以视为一种特殊类型的PPP问题。\n",
    "\n",
    "为了理解这一点，我们可以使用一个简单的例子来说明。我们将使用一个经典的PPAD问题——找到Nash均衡，这是一个重要的博弈论概念。\n",
    "\n",
    "假设我们有一个二人零和博弈，玩家A和玩家B分别有两个策略：策略1和策略2。他们的策略矩阵如下：\n",
    "\n",
    "|       | 策略1 | 策略2 |\n",
    "|-------|-------|-------|\n",
    "| 策略1 | 2, -2 | -1, 1 |\n",
    "| 策略2 | -3, 3 | 0, 0  |\n",
    "\n",
    "这个矩阵表示了玩家A和玩家B在选择策略时可以获得的效用值。\n",
    "\n",
    "我们的目标是找到一个Nash均衡，即在这个均衡点上，玩家A和玩家B选择的策略是最优的，无法通过改变策略来提高其效用值。\n",
    "\n",
    "首先，我们来解决PPAD问题，即找到一个Nash均衡点。"
   ]
  },
  {
   "cell_type": "code",
   "execution_count": 7,
   "metadata": {},
   "outputs": [],
   "source": [
    "def is_nash_equilibrium(payoff_matrix, strategy_A, strategy_B):\n",
    "    \"\"\"\n",
    "    判断给定的策略组合是否为Nash均衡点。\n",
    "    \"\"\"\n",
    "    payoff_A = payoff_matrix[strategy_A][strategy_B][0]\n",
    "    payoff_B = payoff_matrix[strategy_A][strategy_B][1]\n",
    "    \n",
    "    # 玩家A和玩家B都无法通过改变自己的策略来提高效用值\n",
    "    return payoff_matrix[strategy_A][strategy_B] == max(payoff_matrix[strategy_A]) and \\\n",
    "           payoff_matrix[strategy_A][strategy_B] == max(row[strategy_B] for row in payoff_matrix)\n",
    "\n",
    "def find_nash_equilibrium(payoff_matrix):\n",
    "    \"\"\"\n",
    "    在给定的策略矩阵中寻找Nash均衡点。\n",
    "    \"\"\"\n",
    "    num_strategies_A = len(payoff_matrix)\n",
    "    num_strategies_B = len(payoff_matrix[0])\n",
    "    \n",
    "    for strategy_A in range(num_strategies_A):\n",
    "        for strategy_B in range(num_strategies_B):\n",
    "            if is_nash_equilibrium(payoff_matrix, strategy_A, strategy_B):\n",
    "                return strategy_A, strategy_B\n",
    "    \n",
    "    return None\n",
    "\n",
    "# 策略矩阵\n",
    "payoff_matrix = [\n",
    "    [(2, -2), (1, 1), (3, 0)],\n",
    "    [(1, 2), (3, -1), (1, 0)],\n",
    "    [(0, 3), (1, 1), (2, -2)]\n",
    "]"
   ]
  },
  {
   "cell_type": "code",
   "execution_count": 8,
   "metadata": {},
   "outputs": [
    {
     "name": "stdout",
     "output_type": "stream",
     "text": [
      "策略矩阵：\n",
      "[(2, -2), (1, 1), (3, 0)]\n",
      "[(1, 2), (3, -1), (1, 0)]\n",
      "[(0, 3), (1, 1), (2, -2)]\n",
      "\n",
      "策略组合：\n",
      "策略组合： 0 0 是否为Nash均衡点： False\n",
      "策略组合： 0 1 是否为Nash均衡点： False\n",
      "策略组合： 0 2 是否为Nash均衡点： True\n",
      "策略组合： 1 0 是否为Nash均衡点： False\n",
      "策略组合： 1 1 是否为Nash均衡点： True\n",
      "策略组合： 1 2 是否为Nash均衡点： False\n",
      "策略组合： 2 0 是否为Nash均衡点： False\n",
      "策略组合： 2 1 是否为Nash均衡点： False\n",
      "策略组合： 2 2 是否为Nash均衡点： False\n",
      "\n",
      "Nash均衡点： (0, 2)\n"
     ]
    }
   ],
   "source": [
    "num_strategies_A = len(payoff_matrix)\n",
    "num_strategies_B = len(payoff_matrix[0])\n",
    "print(\"策略矩阵：\")\n",
    "for row in payoff_matrix:\n",
    "    print(row)\n",
    "print()\n",
    "print(\"策略组合：\")\n",
    "for strategy_A in range(num_strategies_A):\n",
    "    for strategy_B in range(num_strategies_B):\n",
    "        print(\"策略组合：\", strategy_A, strategy_B, \"是否为Nash均衡点：\", is_nash_equilibrium(payoff_matrix, strategy_A, strategy_B))\n",
    "print()\n",
    "print(\"Nash均衡点：\", find_nash_equilibrium(payoff_matrix))\n",
    "\n"
   ]
  },
  {
   "cell_type": "code",
   "execution_count": 9,
   "metadata": {},
   "outputs": [
    {
     "name": "stdout",
     "output_type": "stream",
     "text": [
      "Nash均衡点：玩家A选择策略1, 玩家B选择策略3\n"
     ]
    }
   ],
   "source": [
    "\n",
    "nash_equilibrium = find_nash_equilibrium(payoff_matrix)\n",
    "if nash_equilibrium:\n",
    "    print(\"Nash均衡点：玩家A选择策略{}, 玩家B选择策略{}\".format(nash_equilibrium[0]+1, nash_equilibrium[1]+1))\n",
    "else:\n",
    "    print(\"未找到Nash均衡点。\")\n"
   ]
  },
  {
   "cell_type": "markdown",
   "metadata": {},
   "source": [
    "\n",
    "\n",
    "现在我们已经找到了Nash均衡点，接下来我们将演示如何将这个问题转换为PPP问题。\n",
    "\n",
    "在PPP问题中，我们要找到一个多项式时间算法，它接受一个描述博弈的多项式函数，并返回一个Nash均衡点。而PPAD问题涉及到从一个Nash均衡点开始，通过多项式步骤移动到另一个Nash均衡点。\n",
    "\n",
    "对于这个例子，我们可以简化PPP问题，使其与PPAD问题等效。我们将不直接解决问题，而是从一个随机的起始点开始，通过随机选择策略并测试其是否是Nash均衡点。这样做可能会产生一个复杂度较高的算法，但我们只是希望演示PPP问题与PPAD问题的包含关系，而不是找到高效的解决方案。\n"
   ]
  },
  {
   "cell_type": "code",
   "execution_count": 10,
   "metadata": {},
   "outputs": [
    {
     "name": "stdout",
     "output_type": "stream",
     "text": [
      "未找到PPP问题的Nash均衡点。\n"
     ]
    }
   ],
   "source": [
    "import random\n",
    "\n",
    "def is_nash_equilibrium(payoff_matrix, strategy_A, strategy_B):\n",
    "    # 略去与上面相同的代码\n",
    "    pass\n",
    "\n",
    "def find_nash_equilibrium_PPP(payoff_matrix):\n",
    "    num_strategies_A = len(payoff_matrix)\n",
    "    num_strategies_B = len(payoff_matrix[0])\n",
    "    max_iterations = num_strategies_A * num_strategies_B\n",
    "    \n",
    "    for _ in range(max_iterations):\n",
    "        strategy_A = random.randint(0, num_strategies_A - 1)\n",
    "        strategy_B = random.randint(0, num_strategies_B - 1)\n",
    "        \n",
    "        if is_nash_equilibrium(payoff_matrix, strategy_A, strategy_B):\n",
    "            return strategy_A, strategy_B\n",
    "    \n",
    "    return None\n",
    "\n",
    "# 使用相同的策略矩阵\n",
    "payoff_matrix = [\n",
    "    [(2, -2), (-1, 1)],\n",
    "    [(-3, 3), (0, 0)]\n",
    "]\n",
    "\n",
    "nash_equilibrium_PPP = find_nash_equilibrium_PPP(payoff_matrix)\n",
    "if nash_equilibrium_PPP:\n",
    "    print(\"PPP问题的Nash均衡点：玩家A选择策略{}, 玩家B选择策略{}\".format(nash_equilibrium_PPP[0]+1, nash_equilibrium_PPP[1]+1))\n",
    "else:\n",
    "    print(\"未找到PPP问题的Nash均衡点。\")"
   ]
  },
  {
   "cell_type": "markdown",
   "metadata": {},
   "source": [
    "\n",
    "请注意，上述PPP问题的解决方案仅仅是为了演示PPP和PPAD之间的包含关系，并不是一个高效的解决方案。实际上，找到PPP问题的多项式时间算法是一个开放的研究问题。\n",
    "\n",
    "总结一下，PPAD是包含于PPP的，即PPAD ⊆ PPP。通过简单的示例，我们可以看到PPP问题是PPAD问题的一种特殊情况。"
   ]
  },
  {
   "cell_type": "code",
   "execution_count": null,
   "metadata": {},
   "outputs": [],
   "source": []
  }
 ],
 "metadata": {
  "kernelspec": {
   "display_name": "base",
   "language": "python",
   "name": "python3"
  },
  "language_info": {
   "codemirror_mode": {
    "name": "ipython",
    "version": 3
   },
   "file_extension": ".py",
   "mimetype": "text/x-python",
   "name": "python",
   "nbconvert_exporter": "python",
   "pygments_lexer": "ipython3",
   "version": "3.9.7"
  },
  "orig_nbformat": 4
 },
 "nbformat": 4,
 "nbformat_minor": 2
}
