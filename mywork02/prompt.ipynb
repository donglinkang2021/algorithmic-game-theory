{
 "cells": [
  {
   "cell_type": "code",
   "execution_count": 1,
   "metadata": {},
   "outputs": [],
   "source": [
    "prompt = \"\"\"\n",
    "\n",
    "```tex\n",
    "{problem}\n",
    "```\n",
    "\n",
    "please solve the problem above in latex:\n",
    "\n",
    "```tex\n",
    "<answer>\n",
    "```\n",
    "\n",
    "\"\"\""
   ]
  },
  {
   "cell_type": "code",
   "execution_count": 2,
   "metadata": {},
   "outputs": [],
   "source": [
    "problem1_tex = r\"\"\"\n",
    "Pick your favorite result in our class and state your reason.\n",
    "\"\"\""
   ]
  },
  {
   "cell_type": "code",
   "execution_count": 3,
   "metadata": {},
   "outputs": [],
   "source": [
    "# 将prompt的内容写入文件\n",
    "with open(\"prompt1.txt\", \"w\") as f:\n",
    "    f.write(prompt.format(problem=problem1_tex))"
   ]
  },
  {
   "cell_type": "code",
   "execution_count": 4,
   "metadata": {},
   "outputs": [],
   "source": [
    "problem2_tex = r\"\"\"\n",
    "\\paragraph{Problem 2.} (4pt per question) Given a set function v : $2^M \\rightarrow \\mathbb{R}_{\\ge 0}$, and for any subsets $S, T \\subseteq M$ we have that\n",
    "\\[\n",
    "   v(S) + v(T) \\ge v(S \\cap T) + v(S \\cup T)  .\n",
    "\\]\n",
    "For simplicity, we abuse notations $S \\cup {j}$ as $S + j$ and $S~ \\backslash~\\{j\\}$ as $S - j$, for any $j \\in M$.\n",
    "\n",
    "\\begin{enumerate}\n",
    "   \\item Prove that for any $S \\subseteq T \\subseteq M$, we have \n",
    "   \n",
    "\\[\n",
    "  \\frac{v(T+j)}{v(T)} \\le \\frac{v(S+j)}{v(S)}. \n",
    "\\]\n",
    "   \\item Prove that for any $T \\subseteq M$ we have\n",
    "   \n",
    "\\[\n",
    "   v(T) \\ge \\sum_{k \\in T} [v(T) - v(T-k)].\n",
    "\\]\n",
    "\n",
    "\\textit{Notes: the set function is default to be monotone and $v(\\emptyset) = 0$ (Our Lecturer has mentioned this in the Dingding Group).}\n",
    "\"\"\""
   ]
  },
  {
   "cell_type": "code",
   "execution_count": 5,
   "metadata": {},
   "outputs": [],
   "source": [
    "# 将prompt的内容写入文件\n",
    "with open(\"prompt2.txt\", \"w\") as f:\n",
    "    f.write(prompt.format(problem=problem2_tex))"
   ]
  },
  {
   "cell_type": "code",
   "execution_count": 6,
   "metadata": {},
   "outputs": [],
   "source": [
    "problem3_tex = r\"\"\"\n",
    "\\begin{enumerate}\n",
    "   \\item (3pt) Show that EFX always exists for identical valuations.\n",
    "   \\item (2pt) Show that EFX always exists when n = 2. (Hint: you can use the first result.)\n",
    "\\end{enumerate}\n",
    "\"\"\"\n",
    "\n",
    "# 将prompt的内容写入文件\n",
    "with open(\"prompt3.txt\", \"w\") as f:\n",
    "    f.write(prompt.format(problem=problem3_tex))"
   ]
  },
  {
   "cell_type": "code",
   "execution_count": 7,
   "metadata": {},
   "outputs": [],
   "source": [
    "problem4_tex = r\"\"\"\n",
    "\\paragraph{Problem 4.}(5pt) Given a valuation function v : $2^{[m]} \\rightarrow \\mathbb{R}$ which is normalized (i.e., $v(\\emptyset) = 0$) and\n",
    "monotone (i.e., $v(S) \\le v(T)$ once $S \\subseteq T \\subseteq [m]$). v is additive iff v(S) = $\\sum_{i \\in S} v(i)$ for any $S \\subseteq [m]$. v is submodular iff $v(S \\cup T) + v(S \\cap T) \\le v(S) + v(T)$ for any $S, T \\subseteq [m]$. And $v$ is XOS iff there exist t additive valuations $\\{a_1, . . . , a_t\\}$ such that $v(S) = max_{r \\in [t]} a_r(S)$ for every $S \\subseteq [m]$.\n",
    "\n",
    "Prove that any monotone and normalized submodular function can be written as an XOS function\n",
    "\"\"\"\n",
    "\n",
    "# 将prompt的内容写入文件\n",
    "with open(\"prompt4.txt\", \"w\") as f:\n",
    "    f.write(prompt.format(problem=problem4_tex))"
   ]
  }
 ],
 "metadata": {
  "kernelspec": {
   "display_name": "base",
   "language": "python",
   "name": "python3"
  },
  "language_info": {
   "codemirror_mode": {
    "name": "ipython",
    "version": 3
   },
   "file_extension": ".py",
   "mimetype": "text/x-python",
   "name": "python",
   "nbconvert_exporter": "python",
   "pygments_lexer": "ipython3",
   "version": "3.9.7"
  },
  "orig_nbformat": 4
 },
 "nbformat": 4,
 "nbformat_minor": 2
}
