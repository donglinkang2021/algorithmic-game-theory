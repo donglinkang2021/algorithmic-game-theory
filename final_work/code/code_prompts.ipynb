{
 "cells": [
  {
   "cell_type": "code",
   "execution_count": 7,
   "metadata": {},
   "outputs": [],
   "source": [
    "prompt = \"\"\"\n",
    "\n",
    "```tex\n",
    "{content}\n",
    "```\n",
    "\n",
    "Please polish the contents to meet the following requirements:\n",
    "\n",
    "- Style: The content should be written in a formal and academic style, it's easy to understand.\n",
    "- Grammar: The content should be grammatically correct.\n",
    "- Structure: The content should be well-structured and easy to read.\n",
    "- Format: The content should be written in LaTeX format.\n",
    "- Content Type: Core Ideas.\n",
    "- Author Type: Undergraduate student. \n",
    "\n",
    "Put your answer in the following block:\n",
    "\n",
    "```tex\n",
    "<answer>\n",
    "```\n",
    "\n",
    "\"\"\""
   ]
  },
  {
   "cell_type": "code",
   "execution_count": 8,
   "metadata": {},
   "outputs": [],
   "source": [
    "content = r\"\"\"\n",
    "We now highlight a key difference between an EF1 allocation and an EFX allocation. From the algorithm of Lipton et al.~\\cite{10.1145/988772.988792}, it is clear that given an EF1 allocation on a set $M_0$ of goods, one can determine an EF1 allocation on $M_0 \\cup M_1$, for any $M_1 \\subseteq M \\setminus M_0$, by simply adding goods from $M_1$ one-by-one to the existing bundles and changing the owners (if necessary) in a clever way. Intuitively, we never need to cut or merge the bundles formed in any EF1 allocation. We can just append the unallocated goods appropriately to the current bundles.\n",
    "\"\"\""
   ]
  },
  {
   "cell_type": "code",
   "execution_count": 9,
   "metadata": {},
   "outputs": [],
   "source": [
    "# 将prompt的内容写入文件\n",
    "with open(\"prompt.txt\", \"w\") as f:\n",
    "    f.write(prompt.format(content=content))"
   ]
  },
  {
   "cell_type": "code",
   "execution_count": null,
   "metadata": {},
   "outputs": [],
   "source": []
  }
 ],
 "metadata": {
  "kernelspec": {
   "display_name": "base",
   "language": "python",
   "name": "python3"
  },
  "language_info": {
   "codemirror_mode": {
    "name": "ipython",
    "version": 3
   },
   "file_extension": ".py",
   "mimetype": "text/x-python",
   "name": "python",
   "nbconvert_exporter": "python",
   "pygments_lexer": "ipython3",
   "version": "3.9.7"
  },
  "orig_nbformat": 4
 },
 "nbformat": 4,
 "nbformat_minor": 2
}
